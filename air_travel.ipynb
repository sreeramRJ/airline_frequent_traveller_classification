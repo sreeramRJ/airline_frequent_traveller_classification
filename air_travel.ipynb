{
 "cells": [
  {
   "cell_type": "code",
   "execution_count": 5,
   "metadata": {},
   "outputs": [
    {
     "data": {
      "text/html": [
       "<div>\n",
       "<style scoped>\n",
       "    .dataframe tbody tr th:only-of-type {\n",
       "        vertical-align: middle;\n",
       "    }\n",
       "\n",
       "    .dataframe tbody tr th {\n",
       "        vertical-align: top;\n",
       "    }\n",
       "\n",
       "    .dataframe thead th {\n",
       "        text-align: right;\n",
       "    }\n",
       "</style>\n",
       "<table border=\"1\" class=\"dataframe\">\n",
       "  <thead>\n",
       "    <tr style=\"text-align: right;\">\n",
       "      <th></th>\n",
       "      <th>PERSON_ID</th>\n",
       "      <th>DESTINATION</th>\n",
       "    </tr>\n",
       "  </thead>\n",
       "  <tbody>\n",
       "    <tr>\n",
       "      <th>0</th>\n",
       "      <td>545</td>\n",
       "      <td>KUV</td>\n",
       "    </tr>\n",
       "    <tr>\n",
       "      <th>1</th>\n",
       "      <td>161</td>\n",
       "      <td>NAY</td>\n",
       "    </tr>\n",
       "    <tr>\n",
       "      <th>2</th>\n",
       "      <td>613</td>\n",
       "      <td>KNO</td>\n",
       "    </tr>\n",
       "    <tr>\n",
       "      <th>3</th>\n",
       "      <td>630</td>\n",
       "      <td>BWI</td>\n",
       "    </tr>\n",
       "    <tr>\n",
       "      <th>4</th>\n",
       "      <td>68</td>\n",
       "      <td>DAM</td>\n",
       "    </tr>\n",
       "  </tbody>\n",
       "</table>\n",
       "</div>"
      ],
      "text/plain": [
       "   PERSON_ID DESTINATION\n",
       "0        545         KUV\n",
       "1        161         NAY\n",
       "2        613         KNO\n",
       "3        630         BWI\n",
       "4         68         DAM"
      ]
     },
     "execution_count": 5,
     "metadata": {},
     "output_type": "execute_result"
    }
   ],
   "source": [
    "age = pd.read_csv(\"age.csv\")\n",
    "education = pd.read_csv(\"education.csv\")\n",
    "mam = pd.read_csv(\"mam.csv\")\n",
    "political = pd.read_csv(\"political.csv\")\n",
    "travels = pd.read_csv(\"travels.csv\")"
   ]
  },
  {
   "cell_type": "code",
   "execution_count": 13,
   "metadata": {},
   "outputs": [
    {
     "data": {
      "text/plain": [
       "1000"
      ]
     },
     "execution_count": 13,
     "metadata": {},
     "output_type": "execute_result"
    }
   ],
   "source": [
    "len(travels['PERSON_ID'].unique())"
   ]
  },
  {
   "cell_type": "code",
   "execution_count": 23,
   "metadata": {},
   "outputs": [
    {
     "data": {
      "text/plain": [
       "(3979, 2)"
      ]
     },
     "execution_count": 23,
     "metadata": {},
     "output_type": "execute_result"
    }
   ],
   "source": [
    "travels.shape"
   ]
  },
  {
   "cell_type": "code",
   "execution_count": 35,
   "metadata": {},
   "outputs": [],
   "source": [
    "travel_trips = travels.groupby(['PERSON_ID']).count()"
   ]
  },
  {
   "cell_type": "code",
   "execution_count": 36,
   "metadata": {},
   "outputs": [],
   "source": [
    "travel_trips = travel_trips.add_suffix('_Count').reset_index()"
   ]
  },
  {
   "cell_type": "code",
   "execution_count": 37,
   "metadata": {},
   "outputs": [
    {
     "data": {
      "text/plain": [
       "<matplotlib.axes._subplots.AxesSubplot at 0x2641640e7f0>"
      ]
     },
     "execution_count": 37,
     "metadata": {},
     "output_type": "execute_result"
    },
    {
     "data": {
      "image/png": "[encoded data removed]",
      "text/plain": [
       "<Figure size 576x432 with 1 Axes>"
      ]
     },
     "metadata": {
      "needs_background": "light"
     },
     "output_type": "display_data"
    }
   ],
   "source": [
    "import seaborn as sns\n",
    "import matplotlib.pyplot as plt\n",
    "plt.rcParams[\"figure.figsize\"] = (8,6)\n",
    "plt.subplots_adjust(top = 0.5,hspace = 3.0)\n",
    "travel_trips['DESTINATION_Count'].hist()"
   ]
  },
  {
   "cell_type": "code",
   "execution_count": 38,
   "metadata": {},
   "outputs": [],
   "source": [
    "travel_trips.loc[travel_trips['DESTINATION_Count'] <=2, 'Group'] = 1\n",
    "travel_trips.loc[(travel_trips['DESTINATION_Count'] >2) & (no_of_trips['DESTINATION_Count'] <= 6),'Group'] = 2\n",
    "travel_trips.loc[(no_of_trips['DESTINATION_Count'] >6),'Group'] = 3"
   ]
  },
  {
   "cell_type": "code",
   "execution_count": 50,
   "metadata": {},
   "outputs": [
    {
     "data": {
      "text/plain": [
       "1000"
      ]
     },
     "execution_count": 50,
     "metadata": {},
     "output_type": "execute_result"
    }
   ],
   "source": [
    "len(travel_trips)"
   ]
  },
  {
   "cell_type": "code",
   "execution_count": 65,
   "metadata": {},
   "outputs": [],
   "source": [
    "df_list = [travel_trips,age,education,mam,political]"
   ]
  },
  {
   "cell_type": "code",
   "execution_count": 113,
   "metadata": {},
   "outputs": [],
   "source": [
    "from functools import reduce\n",
    "passenger_details = reduce(lambda left,right: pd.merge(left,right,on='PERSON_ID'), df_list)"
   ]
  },
  {
   "cell_type": "code",
   "execution_count": 98,
   "metadata": {},
   "outputs": [
    {
     "data": {
      "text/html": [
       "<div>\n",
       "<style scoped>\n",
       "    .dataframe tbody tr th:only-of-type {\n",
       "        vertical-align: middle;\n",
       "    }\n",
       "\n",
       "    .dataframe tbody tr th {\n",
       "        vertical-align: top;\n",
       "    }\n",
       "\n",
       "    .dataframe thead th {\n",
       "        text-align: right;\n",
       "    }\n",
       "</style>\n",
       "<table border=\"1\" class=\"dataframe\">\n",
       "  <thead>\n",
       "    <tr style=\"text-align: right;\">\n",
       "      <th></th>\n",
       "      <th>PERSON_ID</th>\n",
       "      <th>DESTINATION_Count</th>\n",
       "      <th>Group</th>\n",
       "      <th>AGE</th>\n",
       "      <th>EDUCATION</th>\n",
       "      <th>MILES_AND_MORE_STATUS</th>\n",
       "      <th>VOTE</th>\n",
       "    </tr>\n",
       "  </thead>\n",
       "  <tbody>\n",
       "    <tr>\n",
       "      <th>0</th>\n",
       "      <td>0</td>\n",
       "      <td>5</td>\n",
       "      <td>2.0</td>\n",
       "      <td>69</td>\n",
       "      <td>-1.218758</td>\n",
       "      <td>bronce</td>\n",
       "      <td>conservative</td>\n",
       "    </tr>\n",
       "    <tr>\n",
       "      <th>1</th>\n",
       "      <td>1</td>\n",
       "      <td>7</td>\n",
       "      <td>3.0</td>\n",
       "      <td>41</td>\n",
       "      <td>7.326596</td>\n",
       "      <td>bronce</td>\n",
       "      <td>green</td>\n",
       "    </tr>\n",
       "    <tr>\n",
       "      <th>2</th>\n",
       "      <td>2</td>\n",
       "      <td>3</td>\n",
       "      <td>2.0</td>\n",
       "      <td>18</td>\n",
       "      <td>-1.686494</td>\n",
       "      <td>bronce</td>\n",
       "      <td>democrats</td>\n",
       "    </tr>\n",
       "    <tr>\n",
       "      <th>3</th>\n",
       "      <td>3</td>\n",
       "      <td>4</td>\n",
       "      <td>2.0</td>\n",
       "      <td>66</td>\n",
       "      <td>-2.967749</td>\n",
       "      <td>bronce</td>\n",
       "      <td>democrats</td>\n",
       "    </tr>\n",
       "    <tr>\n",
       "      <th>4</th>\n",
       "      <td>4</td>\n",
       "      <td>6</td>\n",
       "      <td>2.0</td>\n",
       "      <td>67</td>\n",
       "      <td>4.693917</td>\n",
       "      <td>bronce</td>\n",
       "      <td>democrats</td>\n",
       "    </tr>\n",
       "  </tbody>\n",
       "</table>\n",
       "</div>"
      ],
      "text/plain": [
       "   PERSON_ID  DESTINATION_Count  Group  AGE  EDUCATION MILES_AND_MORE_STATUS  \\\n",
       "0          0                  5    2.0   69  -1.218758                bronce   \n",
       "1          1                  7    3.0   41   7.326596                bronce   \n",
       "2          2                  3    2.0   18  -1.686494                bronce   \n",
       "3          3                  4    2.0   66  -2.967749                bronce   \n",
       "4          4                  6    2.0   67   4.693917                bronce   \n",
       "\n",
       "           VOTE  \n",
       "0  conservative  \n",
       "1         green  \n",
       "2     democrats  \n",
       "3     democrats  \n",
       "4     democrats  "
      ]
     },
     "execution_count": 98,
     "metadata": {},
     "output_type": "execute_result"
    }
   ],
   "source": [
    "passenger_details.head()"
   ]
  },
  {
   "cell_type": "code",
   "execution_count": 68,
   "metadata": {},
   "outputs": [
    {
     "data": {
      "image/png": "[encoded data removed]",
      "text/plain": [
       "<Figure size 720x432 with 1 Axes>"
      ]
     },
     "metadata": {
      "needs_background": "light"
     },
     "output_type": "display_data"
    }
   ],
   "source": [
    "plt.figure(figsize=(10,6))\n",
    "plt.title(\"Ages Frequency\")\n",
    "sns.axes_style(\"dark\")\n",
    "sns.violinplot(y=passenger_details[\"AGE\"])\n",
    "plt.show()"
   ]
  },
  {
   "cell_type": "code",
   "execution_count": 69,
   "metadata": {},
   "outputs": [
    {
     "data": {
      "image/png": "[encoded data removed]",
      "text/plain": [
       "<Figure size 720x288 with 1 Axes>"
      ]
     },
     "metadata": {},
     "output_type": "display_data"
    }
   ],
   "source": [
    "mam = passenger_details.MILES_AND_MORE_STATUS.value_counts()\n",
    "sns.set_style(\"darkgrid\")\n",
    "plt.figure(figsize=(10,4))\n",
    "sns.barplot(x=mam.index, y=mam.values)\n",
    "plt.show()"
   ]
  },
  {
   "cell_type": "code",
   "execution_count": 70,
   "metadata": {},
   "outputs": [
    {
     "data": {
      "image/png": "[encoded data removed]",
      "text/plain": [
       "<Figure size 720x288 with 1 Axes>"
      ]
     },
     "metadata": {},
     "output_type": "display_data"
    }
   ],
   "source": [
    "vote = passenger_details.VOTE.value_counts()\n",
    "sns.set_style(\"darkgrid\")\n",
    "plt.figure(figsize=(10,4))\n",
    "sns.barplot(x=vote.index, y=vote.values)\n",
    "plt.show()"
   ]
  },
  {
   "cell_type": "code",
   "execution_count": 114,
   "metadata": {},
   "outputs": [],
   "source": [
    "passenger_details['Group'] = passenger_details['Group'].astype(int)\n",
    "passenger_details['AGE'] = passenger_details['AGE'].astype(int)"
   ]
  },
  {
   "cell_type": "code",
   "execution_count": 115,
   "metadata": {},
   "outputs": [],
   "source": [
    "passenger_details.loc[passenger_details['MILES_AND_MORE_STATUS'] == 'gold','MILES_AND_MORE_STATUS'] = 1\n",
    "passenger_details.loc[passenger_details['MILES_AND_MORE_STATUS'] == 'silver','MILES_AND_MORE_STATUS'] = 2\n",
    "passenger_details.loc[passenger_details['MILES_AND_MORE_STATUS'] == 'bronce','MILES_AND_MORE_STATUS'] = 3\n",
    "passenger_details['MILES_AND_MORE_STATUS'] = passenger_details['MILES_AND_MORE_STATUS'].astype(int)"
   ]
  },
  {
   "cell_type": "code",
   "execution_count": 63,
   "metadata": {},
   "outputs": [
    {
     "data": {
      "text/plain": [
       "array(['conservative', 'green', 'democrats', 'liberal', 'right', 'left'],\n",
       "      dtype=object)"
      ]
     },
     "execution_count": 63,
     "metadata": {},
     "output_type": "execute_result"
    }
   ],
   "source": [
    "passenger_details['VOTE'].unique()"
   ]
  },
  {
   "cell_type": "code",
   "execution_count": 116,
   "metadata": {},
   "outputs": [],
   "source": [
    "passenger_details.loc[passenger_details['VOTE'] == 'conservative','VOTE'] = 1\n",
    "passenger_details.loc[passenger_details['VOTE'] == 'green','VOTE'] = 2\n",
    "passenger_details.loc[passenger_details['VOTE'] == 'democrats','VOTE'] = 3\n",
    "passenger_details.loc[passenger_details['VOTE'] == 'liberal','VOTE'] = 4\n",
    "passenger_details.loc[passenger_details['VOTE'] == 'right','VOTE'] = 5\n",
    "passenger_details.loc[passenger_details['VOTE'] == 'left','VOTE'] = 6\n",
    "passenger_details['VOTE'] = passenger_details['VOTE'].astype(int)"
   ]
  },
  {
   "cell_type": "code",
   "execution_count": 102,
   "metadata": {},
   "outputs": [],
   "source": [
    "passenger_details.loc[(passenger_details['AGE'] > 17) & (passenger_details['AGE'] <= 25), 'AGE'] = 1\n",
    "passenger_details.loc[(passenger_details['AGE'] > 25) & (passenger_details['AGE'] <= 35), 'AGE'] = 2\n",
    "passenger_details.loc[(passenger_details['AGE'] > 35) & (passenger_details['AGE'] <= 45), 'AGE'] = 3\n",
    "passenger_details.loc[(passenger_details['AGE'] > 45) & (passenger_details['AGE'] <= 55), 'AGE'] = 4\n",
    "passenger_details.loc[(passenger_details['AGE'] > 55) & (passenger_details['AGE'] <= 65), 'AGE'] = 5\n",
    "passenger_details.loc[ passenger_details['AGE'] > 65, 'AGE'] = 6"
   ]
  },
  {
   "cell_type": "code",
   "execution_count": 56,
   "metadata": {},
   "outputs": [
    {
     "data": {
      "image/png": "[encoded data removed]",
      "text/plain": [
       "<Figure size 1440x432 with 1 Axes>"
      ]
     },
     "metadata": {
      "needs_background": "light"
     },
     "output_type": "display_data"
    }
   ],
   "source": [
    "pd.crosstab(passenger_details['AGE'],passenger_details['Group']).plot(kind=\"bar\",figsize=(20,6))\n",
    "plt.title('Age Group for Passengers')\n",
    "plt.xlabel('Age')\n",
    "plt.ylabel('Frequency')\n",
    "plt.show()"
   ]
  },
  {
   "cell_type": "code",
   "execution_count": 117,
   "metadata": {},
   "outputs": [],
   "source": [
    "passenger_details.rename(columns = {'DESTINATION_Count' : 'TRIPS'},inplace=True)\n",
    "passenger_details = passenger_details.drop(['Group'],axis=1)"
   ]
  },
  {
   "cell_type": "code",
   "execution_count": 118,
   "metadata": {},
   "outputs": [
    {
     "data": {
      "image/png": "[encoded data removed]",
      "text/plain": [
       "<Figure size 864x432 with 1 Axes>"
      ]
     },
     "metadata": {},
     "output_type": "display_data"
    }
   ],
   "source": [
    "from sklearn.cluster import KMeans\n",
    "import numpy as np\n",
    "wcss = []\n",
    "for k in range(1,11):\n",
    "    kmeans = KMeans(n_clusters=k, init=\"k-means++\")\n",
    "    kmeans.fit(passenger_details.iloc[:,1:])\n",
    "    wcss.append(kmeans.inertia_)\n",
    "plt.figure(figsize=(12,6))    \n",
    "plt.grid()\n",
    "plt.plot(range(1,11),wcss, linewidth=2, color=\"red\", marker =\"8\")\n",
    "plt.xlabel(\"K Value\")\n",
    "plt.xticks(np.arange(1,11,1))\n",
    "plt.ylabel(\"WCSS\")\n",
    "plt.show()"
   ]
  },
  {
   "cell_type": "code",
   "execution_count": 125,
   "metadata": {},
   "outputs": [],
   "source": [
    "km = KMeans(n_clusters=3)\n",
    "clusters = km.fit_predict(passenger_details.iloc[:,1:6])\n",
    "passenger_details[\"label\"] = clusters"
   ]
  },
  {
   "cell_type": "code",
   "execution_count": 126,
   "metadata": {},
   "outputs": [
    {
     "data": {
      "text/html": [
       "<div>\n",
       "<style scoped>\n",
       "    .dataframe tbody tr th:only-of-type {\n",
       "        vertical-align: middle;\n",
       "    }\n",
       "\n",
       "    .dataframe tbody tr th {\n",
       "        vertical-align: top;\n",
       "    }\n",
       "\n",
       "    .dataframe thead th {\n",
       "        text-align: right;\n",
       "    }\n",
       "</style>\n",
       "<table border=\"1\" class=\"dataframe\">\n",
       "  <thead>\n",
       "    <tr style=\"text-align: right;\">\n",
       "      <th></th>\n",
       "      <th>PERSON_ID</th>\n",
       "      <th>TRIPS</th>\n",
       "      <th>AGE</th>\n",
       "      <th>EDUCATION</th>\n",
       "      <th>MILES_AND_MORE_STATUS</th>\n",
       "      <th>VOTE</th>\n",
       "      <th>label</th>\n",
       "    </tr>\n",
       "  </thead>\n",
       "  <tbody>\n",
       "    <tr>\n",
       "      <th>0</th>\n",
       "      <td>0</td>\n",
       "      <td>5</td>\n",
       "      <td>69</td>\n",
       "      <td>-1.218758</td>\n",
       "      <td>3</td>\n",
       "      <td>1</td>\n",
       "      <td>1</td>\n",
       "    </tr>\n",
       "    <tr>\n",
       "      <th>1</th>\n",
       "      <td>1</td>\n",
       "      <td>7</td>\n",
       "      <td>41</td>\n",
       "      <td>7.326596</td>\n",
       "      <td>3</td>\n",
       "      <td>2</td>\n",
       "      <td>2</td>\n",
       "    </tr>\n",
       "    <tr>\n",
       "      <th>2</th>\n",
       "      <td>2</td>\n",
       "      <td>3</td>\n",
       "      <td>18</td>\n",
       "      <td>-1.686494</td>\n",
       "      <td>3</td>\n",
       "      <td>3</td>\n",
       "      <td>0</td>\n",
       "    </tr>\n",
       "    <tr>\n",
       "      <th>3</th>\n",
       "      <td>3</td>\n",
       "      <td>4</td>\n",
       "      <td>66</td>\n",
       "      <td>-2.967749</td>\n",
       "      <td>3</td>\n",
       "      <td>3</td>\n",
       "      <td>1</td>\n",
       "    </tr>\n",
       "    <tr>\n",
       "      <th>4</th>\n",
       "      <td>4</td>\n",
       "      <td>6</td>\n",
       "      <td>67</td>\n",
       "      <td>4.693917</td>\n",
       "      <td>3</td>\n",
       "      <td>3</td>\n",
       "      <td>1</td>\n",
       "    </tr>\n",
       "  </tbody>\n",
       "</table>\n",
       "</div>"
      ],
      "text/plain": [
       "   PERSON_ID  TRIPS  AGE  EDUCATION  MILES_AND_MORE_STATUS  VOTE  label\n",
       "0          0      5   69  -1.218758                      3     1      1\n",
       "1          1      7   41   7.326596                      3     2      2\n",
       "2          2      3   18  -1.686494                      3     3      0\n",
       "3          3      4   66  -2.967749                      3     3      1\n",
       "4          4      6   67   4.693917                      3     3      1"
      ]
     },
     "execution_count": 126,
     "metadata": {},
     "output_type": "execute_result"
    }
   ],
   "source": [
    "passenger_details.head()"
   ]
  },
  {
   "cell_type": "code",
   "execution_count": 128,
   "metadata": {},
   "outputs": [],
   "source": [
    "passenger_group_1 = passenger_details.loc[passenger_details['label'] == 0]\n",
    "passenger_group_2 = passenger_details.loc[passenger_details['label'] == 1]\n",
    "passenger_group_3 = passenger_details.loc[passenger_details['label'] == 2]"
   ]
  },
  {
   "cell_type": "code",
   "execution_count": 133,
   "metadata": {},
   "outputs": [
    {
     "data": {
      "text/html": [
       "<div>\n",
       "<style scoped>\n",
       "    .dataframe tbody tr th:only-of-type {\n",
       "        vertical-align: middle;\n",
       "    }\n",
       "\n",
       "    .dataframe tbody tr th {\n",
       "        vertical-align: top;\n",
       "    }\n",
       "\n",
       "    .dataframe thead th {\n",
       "        text-align: right;\n",
       "    }\n",
       "</style>\n",
       "<table border=\"1\" class=\"dataframe\">\n",
       "  <thead>\n",
       "    <tr style=\"text-align: right;\">\n",
       "      <th></th>\n",
       "      <th>TRIPS</th>\n",
       "      <th>AGE</th>\n",
       "      <th>EDUCATION</th>\n",
       "      <th>MILES_AND_MORE_STATUS</th>\n",
       "      <th>VOTE</th>\n",
       "    </tr>\n",
       "  </thead>\n",
       "  <tbody>\n",
       "    <tr>\n",
       "      <th>TRIPS</th>\n",
       "      <td>1.000000</td>\n",
       "      <td>0.006106</td>\n",
       "      <td>0.115075</td>\n",
       "      <td>-0.230423</td>\n",
       "      <td>0.008426</td>\n",
       "    </tr>\n",
       "    <tr>\n",
       "      <th>AGE</th>\n",
       "      <td>0.006106</td>\n",
       "      <td>1.000000</td>\n",
       "      <td>-0.000529</td>\n",
       "      <td>0.005559</td>\n",
       "      <td>-0.002027</td>\n",
       "    </tr>\n",
       "    <tr>\n",
       "      <th>EDUCATION</th>\n",
       "      <td>0.115075</td>\n",
       "      <td>-0.000529</td>\n",
       "      <td>1.000000</td>\n",
       "      <td>-0.021445</td>\n",
       "      <td>-0.130301</td>\n",
       "    </tr>\n",
       "    <tr>\n",
       "      <th>MILES_AND_MORE_STATUS</th>\n",
       "      <td>-0.230423</td>\n",
       "      <td>0.005559</td>\n",
       "      <td>-0.021445</td>\n",
       "      <td>1.000000</td>\n",
       "      <td>-0.001836</td>\n",
       "    </tr>\n",
       "    <tr>\n",
       "      <th>VOTE</th>\n",
       "      <td>0.008426</td>\n",
       "      <td>-0.002027</td>\n",
       "      <td>-0.130301</td>\n",
       "      <td>-0.001836</td>\n",
       "      <td>1.000000</td>\n",
       "    </tr>\n",
       "  </tbody>\n",
       "</table>\n",
       "</div>"
      ],
      "text/plain": [
       "                          TRIPS       AGE  EDUCATION  MILES_AND_MORE_STATUS  \\\n",
       "TRIPS                  1.000000  0.006106   0.115075              -0.230423   \n",
       "AGE                    0.006106  1.000000  -0.000529               0.005559   \n",
       "EDUCATION              0.115075 -0.000529   1.000000              -0.021445   \n",
       "MILES_AND_MORE_STATUS -0.230423  0.005559  -0.021445               1.000000   \n",
       "VOTE                   0.008426 -0.002027  -0.130301              -0.001836   \n",
       "\n",
       "                           VOTE  \n",
       "TRIPS                  0.008426  \n",
       "AGE                   -0.002027  \n",
       "EDUCATION             -0.130301  \n",
       "MILES_AND_MORE_STATUS -0.001836  \n",
       "VOTE                   1.000000  "
      ]
     },
     "execution_count": 133,
     "metadata": {},
     "output_type": "execute_result"
    }
   ],
   "source": [
    "passenger_details[['TRIPS','AGE','EDUCATION','MILES_AND_MORE_STATUS','VOTE']].corr()"
   ]
  },
  {
   "cell_type": "code",
   "execution_count": 130,
   "metadata": {},
   "outputs": [
    {
     "data": {
      "text/html": [
       "<div>\n",
       "<style scoped>\n",
       "    .dataframe tbody tr th:only-of-type {\n",
       "        vertical-align: middle;\n",
       "    }\n",
       "\n",
       "    .dataframe tbody tr th {\n",
       "        vertical-align: top;\n",
       "    }\n",
       "\n",
       "    .dataframe thead th {\n",
       "        text-align: right;\n",
       "    }\n",
       "</style>\n",
       "<table border=\"1\" class=\"dataframe\">\n",
       "  <thead>\n",
       "    <tr style=\"text-align: right;\">\n",
       "      <th></th>\n",
       "      <th>PERSON_ID</th>\n",
       "      <th>TRIPS</th>\n",
       "      <th>AGE</th>\n",
       "      <th>EDUCATION</th>\n",
       "      <th>MILES_AND_MORE_STATUS</th>\n",
       "      <th>VOTE</th>\n",
       "      <th>label</th>\n",
       "    </tr>\n",
       "  </thead>\n",
       "  <tbody>\n",
       "    <tr>\n",
       "      <th>count</th>\n",
       "      <td>322.000000</td>\n",
       "      <td>322.000000</td>\n",
       "      <td>322.000000</td>\n",
       "      <td>322.000000</td>\n",
       "      <td>322.000000</td>\n",
       "      <td>322.000000</td>\n",
       "      <td>322.0</td>\n",
       "    </tr>\n",
       "    <tr>\n",
       "      <th>mean</th>\n",
       "      <td>501.270186</td>\n",
       "      <td>4.015528</td>\n",
       "      <td>26.832298</td>\n",
       "      <td>0.174775</td>\n",
       "      <td>2.645963</td>\n",
       "      <td>2.506211</td>\n",
       "      <td>0.0</td>\n",
       "    </tr>\n",
       "    <tr>\n",
       "      <th>std</th>\n",
       "      <td>296.773929</td>\n",
       "      <td>2.062061</td>\n",
       "      <td>5.364863</td>\n",
       "      <td>4.855900</td>\n",
       "      <td>0.664263</td>\n",
       "      <td>1.485640</td>\n",
       "      <td>0.0</td>\n",
       "    </tr>\n",
       "    <tr>\n",
       "      <th>min</th>\n",
       "      <td>2.000000</td>\n",
       "      <td>1.000000</td>\n",
       "      <td>18.000000</td>\n",
       "      <td>-11.906199</td>\n",
       "      <td>1.000000</td>\n",
       "      <td>1.000000</td>\n",
       "      <td>0.0</td>\n",
       "    </tr>\n",
       "    <tr>\n",
       "      <th>25%</th>\n",
       "      <td>230.750000</td>\n",
       "      <td>2.250000</td>\n",
       "      <td>22.000000</td>\n",
       "      <td>-3.199501</td>\n",
       "      <td>3.000000</td>\n",
       "      <td>1.000000</td>\n",
       "      <td>0.0</td>\n",
       "    </tr>\n",
       "    <tr>\n",
       "      <th>50%</th>\n",
       "      <td>514.000000</td>\n",
       "      <td>4.000000</td>\n",
       "      <td>27.000000</td>\n",
       "      <td>0.150544</td>\n",
       "      <td>3.000000</td>\n",
       "      <td>3.000000</td>\n",
       "      <td>0.0</td>\n",
       "    </tr>\n",
       "    <tr>\n",
       "      <th>75%</th>\n",
       "      <td>763.000000</td>\n",
       "      <td>5.000000</td>\n",
       "      <td>32.000000</td>\n",
       "      <td>3.495952</td>\n",
       "      <td>3.000000</td>\n",
       "      <td>3.000000</td>\n",
       "      <td>0.0</td>\n",
       "    </tr>\n",
       "    <tr>\n",
       "      <th>max</th>\n",
       "      <td>998.000000</td>\n",
       "      <td>11.000000</td>\n",
       "      <td>35.000000</td>\n",
       "      <td>12.016943</td>\n",
       "      <td>3.000000</td>\n",
       "      <td>6.000000</td>\n",
       "      <td>0.0</td>\n",
       "    </tr>\n",
       "  </tbody>\n",
       "</table>\n",
       "</div>"
      ],
      "text/plain": [
       "        PERSON_ID       TRIPS         AGE   EDUCATION  MILES_AND_MORE_STATUS  \\\n",
       "count  322.000000  322.000000  322.000000  322.000000             322.000000   \n",
       "mean   501.270186    4.015528   26.832298    0.174775               2.645963   \n",
       "std    296.773929    2.062061    5.364863    4.855900               0.664263   \n",
       "min      2.000000    1.000000   18.000000  -11.906199               1.000000   \n",
       "25%    230.750000    2.250000   22.000000   -3.199501               3.000000   \n",
       "50%    514.000000    4.000000   27.000000    0.150544               3.000000   \n",
       "75%    763.000000    5.000000   32.000000    3.495952               3.000000   \n",
       "max    998.000000   11.000000   35.000000   12.016943               3.000000   \n",
       "\n",
       "             VOTE  label  \n",
       "count  322.000000  322.0  \n",
       "mean     2.506211    0.0  \n",
       "std      1.485640    0.0  \n",
       "min      1.000000    0.0  \n",
       "25%      1.000000    0.0  \n",
       "50%      3.000000    0.0  \n",
       "75%      3.000000    0.0  \n",
       "max      6.000000    0.0  "
      ]
     },
     "execution_count": 130,
     "metadata": {},
     "output_type": "execute_result"
    }
   ],
   "source": [
    "passenger_group_1.describe()"
   ]
  },
  {
   "cell_type": "code",
   "execution_count": 131,
   "metadata": {},
   "outputs": [
    {
     "data": {
      "text/html": [
       "<div>\n",
       "<style scoped>\n",
       "    .dataframe tbody tr th:only-of-type {\n",
       "        vertical-align: middle;\n",
       "    }\n",
       "\n",
       "    .dataframe tbody tr th {\n",
       "        vertical-align: top;\n",
       "    }\n",
       "\n",
       "    .dataframe thead th {\n",
       "        text-align: right;\n",
       "    }\n",
       "</style>\n",
       "<table border=\"1\" class=\"dataframe\">\n",
       "  <thead>\n",
       "    <tr style=\"text-align: right;\">\n",
       "      <th></th>\n",
       "      <th>PERSON_ID</th>\n",
       "      <th>TRIPS</th>\n",
       "      <th>AGE</th>\n",
       "      <th>EDUCATION</th>\n",
       "      <th>MILES_AND_MORE_STATUS</th>\n",
       "      <th>VOTE</th>\n",
       "      <th>label</th>\n",
       "    </tr>\n",
       "  </thead>\n",
       "  <tbody>\n",
       "    <tr>\n",
       "      <th>count</th>\n",
       "      <td>322.000000</td>\n",
       "      <td>322.000000</td>\n",
       "      <td>322.000000</td>\n",
       "      <td>322.000000</td>\n",
       "      <td>322.000000</td>\n",
       "      <td>322.000000</td>\n",
       "      <td>322.0</td>\n",
       "    </tr>\n",
       "    <tr>\n",
       "      <th>mean</th>\n",
       "      <td>498.121118</td>\n",
       "      <td>4.021739</td>\n",
       "      <td>62.186335</td>\n",
       "      <td>0.085469</td>\n",
       "      <td>2.636646</td>\n",
       "      <td>2.484472</td>\n",
       "      <td>1.0</td>\n",
       "    </tr>\n",
       "    <tr>\n",
       "      <th>std</th>\n",
       "      <td>284.012747</td>\n",
       "      <td>1.969272</td>\n",
       "      <td>4.937876</td>\n",
       "      <td>5.345511</td>\n",
       "      <td>0.675535</td>\n",
       "      <td>1.504326</td>\n",
       "      <td>0.0</td>\n",
       "    </tr>\n",
       "    <tr>\n",
       "      <th>min</th>\n",
       "      <td>0.000000</td>\n",
       "      <td>1.000000</td>\n",
       "      <td>54.000000</td>\n",
       "      <td>-13.364002</td>\n",
       "      <td>1.000000</td>\n",
       "      <td>1.000000</td>\n",
       "      <td>1.0</td>\n",
       "    </tr>\n",
       "    <tr>\n",
       "      <th>25%</th>\n",
       "      <td>262.250000</td>\n",
       "      <td>3.000000</td>\n",
       "      <td>58.000000</td>\n",
       "      <td>-3.291894</td>\n",
       "      <td>2.250000</td>\n",
       "      <td>1.000000</td>\n",
       "      <td>1.0</td>\n",
       "    </tr>\n",
       "    <tr>\n",
       "      <th>50%</th>\n",
       "      <td>472.000000</td>\n",
       "      <td>4.000000</td>\n",
       "      <td>62.000000</td>\n",
       "      <td>0.216331</td>\n",
       "      <td>3.000000</td>\n",
       "      <td>2.000000</td>\n",
       "      <td>1.0</td>\n",
       "    </tr>\n",
       "    <tr>\n",
       "      <th>75%</th>\n",
       "      <td>751.500000</td>\n",
       "      <td>5.000000</td>\n",
       "      <td>67.000000</td>\n",
       "      <td>3.466832</td>\n",
       "      <td>3.000000</td>\n",
       "      <td>3.000000</td>\n",
       "      <td>1.0</td>\n",
       "    </tr>\n",
       "    <tr>\n",
       "      <th>max</th>\n",
       "      <td>996.000000</td>\n",
       "      <td>10.000000</td>\n",
       "      <td>70.000000</td>\n",
       "      <td>15.798515</td>\n",
       "      <td>3.000000</td>\n",
       "      <td>6.000000</td>\n",
       "      <td>1.0</td>\n",
       "    </tr>\n",
       "  </tbody>\n",
       "</table>\n",
       "</div>"
      ],
      "text/plain": [
       "        PERSON_ID       TRIPS         AGE   EDUCATION  MILES_AND_MORE_STATUS  \\\n",
       "count  322.000000  322.000000  322.000000  322.000000             322.000000   \n",
       "mean   498.121118    4.021739   62.186335    0.085469               2.636646   \n",
       "std    284.012747    1.969272    4.937876    5.345511               0.675535   \n",
       "min      0.000000    1.000000   54.000000  -13.364002               1.000000   \n",
       "25%    262.250000    3.000000   58.000000   -3.291894               2.250000   \n",
       "50%    472.000000    4.000000   62.000000    0.216331               3.000000   \n",
       "75%    751.500000    5.000000   67.000000    3.466832               3.000000   \n",
       "max    996.000000   10.000000   70.000000   15.798515               3.000000   \n",
       "\n",
       "             VOTE  label  \n",
       "count  322.000000  322.0  \n",
       "mean     2.484472    1.0  \n",
       "std      1.504326    0.0  \n",
       "min      1.000000    1.0  \n",
       "25%      1.000000    1.0  \n",
       "50%      2.000000    1.0  \n",
       "75%      3.000000    1.0  \n",
       "max      6.000000    1.0  "
      ]
     },
     "execution_count": 131,
     "metadata": {},
     "output_type": "execute_result"
    }
   ],
   "source": [
    "passenger_group_2.describe()"
   ]
  },
  {
   "cell_type": "code",
   "execution_count": 132,
   "metadata": {},
   "outputs": [
    {
     "data": {
      "text/html": [
       "<div>\n",
       "<style scoped>\n",
       "    .dataframe tbody tr th:only-of-type {\n",
       "        vertical-align: middle;\n",
       "    }\n",
       "\n",
       "    .dataframe tbody tr th {\n",
       "        vertical-align: top;\n",
       "    }\n",
       "\n",
       "    .dataframe thead th {\n",
       "        text-align: right;\n",
       "    }\n",
       "</style>\n",
       "<table border=\"1\" class=\"dataframe\">\n",
       "  <thead>\n",
       "    <tr style=\"text-align: right;\">\n",
       "      <th></th>\n",
       "      <th>PERSON_ID</th>\n",
       "      <th>TRIPS</th>\n",
       "      <th>AGE</th>\n",
       "      <th>EDUCATION</th>\n",
       "      <th>MILES_AND_MORE_STATUS</th>\n",
       "      <th>VOTE</th>\n",
       "      <th>label</th>\n",
       "    </tr>\n",
       "  </thead>\n",
       "  <tbody>\n",
       "    <tr>\n",
       "      <th>count</th>\n",
       "      <td>356.000000</td>\n",
       "      <td>356.000000</td>\n",
       "      <td>356.000000</td>\n",
       "      <td>356.000000</td>\n",
       "      <td>356.000000</td>\n",
       "      <td>356.000000</td>\n",
       "      <td>356.0</td>\n",
       "    </tr>\n",
       "    <tr>\n",
       "      <th>mean</th>\n",
       "      <td>499.146067</td>\n",
       "      <td>3.907303</td>\n",
       "      <td>44.595506</td>\n",
       "      <td>0.317176</td>\n",
       "      <td>2.553371</td>\n",
       "      <td>2.544944</td>\n",
       "      <td>2.0</td>\n",
       "    </tr>\n",
       "    <tr>\n",
       "      <th>std</th>\n",
       "      <td>286.635089</td>\n",
       "      <td>2.069184</td>\n",
       "      <td>5.162637</td>\n",
       "      <td>5.062718</td>\n",
       "      <td>0.746798</td>\n",
       "      <td>1.527477</td>\n",
       "      <td>0.0</td>\n",
       "    </tr>\n",
       "    <tr>\n",
       "      <th>min</th>\n",
       "      <td>1.000000</td>\n",
       "      <td>1.000000</td>\n",
       "      <td>36.000000</td>\n",
       "      <td>-12.765756</td>\n",
       "      <td>1.000000</td>\n",
       "      <td>1.000000</td>\n",
       "      <td>2.0</td>\n",
       "    </tr>\n",
       "    <tr>\n",
       "      <th>25%</th>\n",
       "      <td>257.750000</td>\n",
       "      <td>2.000000</td>\n",
       "      <td>40.000000</td>\n",
       "      <td>-3.210436</td>\n",
       "      <td>2.000000</td>\n",
       "      <td>1.000000</td>\n",
       "      <td>2.0</td>\n",
       "    </tr>\n",
       "    <tr>\n",
       "      <th>50%</th>\n",
       "      <td>510.500000</td>\n",
       "      <td>4.000000</td>\n",
       "      <td>45.000000</td>\n",
       "      <td>-0.117989</td>\n",
       "      <td>3.000000</td>\n",
       "      <td>2.000000</td>\n",
       "      <td>2.0</td>\n",
       "    </tr>\n",
       "    <tr>\n",
       "      <th>75%</th>\n",
       "      <td>733.250000</td>\n",
       "      <td>5.000000</td>\n",
       "      <td>49.000000</td>\n",
       "      <td>3.984459</td>\n",
       "      <td>3.000000</td>\n",
       "      <td>3.000000</td>\n",
       "      <td>2.0</td>\n",
       "    </tr>\n",
       "    <tr>\n",
       "      <th>max</th>\n",
       "      <td>999.000000</td>\n",
       "      <td>12.000000</td>\n",
       "      <td>53.000000</td>\n",
       "      <td>17.520713</td>\n",
       "      <td>3.000000</td>\n",
       "      <td>6.000000</td>\n",
       "      <td>2.0</td>\n",
       "    </tr>\n",
       "  </tbody>\n",
       "</table>\n",
       "</div>"
      ],
      "text/plain": [
       "        PERSON_ID       TRIPS         AGE   EDUCATION  MILES_AND_MORE_STATUS  \\\n",
       "count  356.000000  356.000000  356.000000  356.000000             356.000000   \n",
       "mean   499.146067    3.907303   44.595506    0.317176               2.553371   \n",
       "std    286.635089    2.069184    5.162637    5.062718               0.746798   \n",
       "min      1.000000    1.000000   36.000000  -12.765756               1.000000   \n",
       "25%    257.750000    2.000000   40.000000   -3.210436               2.000000   \n",
       "50%    510.500000    4.000000   45.000000   -0.117989               3.000000   \n",
       "75%    733.250000    5.000000   49.000000    3.984459               3.000000   \n",
       "max    999.000000   12.000000   53.000000   17.520713               3.000000   \n",
       "\n",
       "             VOTE  label  \n",
       "count  356.000000  356.0  \n",
       "mean     2.544944    2.0  \n",
       "std      1.527477    0.0  \n",
       "min      1.000000    2.0  \n",
       "25%      1.000000    2.0  \n",
       "50%      2.000000    2.0  \n",
       "75%      3.000000    2.0  \n",
       "max      6.000000    2.0  "
      ]
     },
     "execution_count": 132,
     "metadata": {},
     "output_type": "execute_result"
    }
   ],
   "source": [
    "passenger_group_3.describe()"
   ]
  },
  {
   "cell_type": "raw",
   "metadata": {},
   "source": [
    "##Explanation\n",
    "We can consider three groups of customers for targeted messaging\n",
    "Group 1 - Age between 18-35 , has atleast 25% of people with political interest towards 'conservative' and remaining mostly towards 'democrats'\n",
    "Group 2 - Age between 54-70 , has atleast 50% interested in 'conservative' and 'green' and remaining mostly towards 'democrats'\n",
    "Group 3 - Age between 36-53 , has atleast 50% interested in 'conservative' and 'green' and remaining mostly towards 'democrats' , has 25% of MILES_AND_MORE members with silver or gold status\n",
    "\n",
    "\n",
    "For Group 1, email can be with offers for group travel, young couples or for travel with kids\n",
    "For Group 2, customised offers for older couples for relaxing destinations\n",
    "For Group 3, offers for travel to more business destinations"
   ]
  }
 ],
 "metadata": {
  "kernelspec": {
   "display_name": "Python 3",
   "language": "python",
   "name": "python3"
  },
  "language_info": {
   "codemirror_mode": {
    "name": "ipython",
    "version": 3
   },
   "file_extension": ".py",
   "mimetype": "text/x-python",
   "name": "python",
   "nbconvert_exporter": "python",
   "pygments_lexer": "ipython3",
   "version": "3.7.3"
  }
 },
 "nbformat": 4,
 "nbformat_minor": 2
}
